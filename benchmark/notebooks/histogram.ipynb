{
 "cells": [
  {
   "cell_type": "code",
   "execution_count": 1,
   "metadata": {},
   "outputs": [],
   "source": [
    "test_type='test'\n",
    "test_endpoint='http://localhost:8080/30'\n",
    "simulation_identifier='s2'"
   ]
  },
  {
   "cell_type": "code",
   "execution_count": 2,
   "metadata": {
    "scrolled": true
   },
   "outputs": [
    {
     "name": "stdout",
     "output_type": "stream",
     "text": [
      "Running stress testing\n",
      "\u001b[0K\n",
      "\u001b[36m          /\\      |‾‾| /‾‾/   /‾‾/   \u001b[0K\n",
      "     /\\  /  \\     |  |/  /   /  /    \u001b[0K\n",
      "    /  \\/    \\    |     (   /   ‾‾\\  \u001b[0K\n",
      "   /          \\   |  |\\  \\ |  (‾)  | \u001b[0K\n",
      "  / __________ \\  |__| \\__\\ \\_____/ .io\u001b[0m\u001b[0K\n",
      "\u001b[0K\n",
      "  execution: \u001b[36mlocal\u001b[0m\u001b[0K\n",
      "     script: \u001b[36m/home/jovyan/k6_scripts/test.js\u001b[0m\u001b[0K\n",
      "     output: \u001b[36mInfluxDBv1 (http://localhost:8086)\u001b[0m\u001b[0K\n",
      "\u001b[0K\n",
      "  scenarios: \u001b[36m(100.00%) 1 scenario, 1 max VUs, 32s max duration (incl. graceful stop):\u001b[0m\u001b[0K\n",
      "           * spike: Up to 1 looping VUs for 2s over 1 stages (gracefulRampDown: 0s, gracefulStop: 30s)\u001b[0K\n",
      "\u001b[0K\n",
      "\u001b[K\n",
      "running (00.1s), 0/1 VUs, 0 complete and 0 interrupted iterations\u001b[K\n",
      "spike   [>\u001b[2m-------------------------------------\u001b[0m] 0/1 VUs  0.1s/2.0s\u001b[K\n",
      "\u001b[J\u001b[3A\u001b[K\n",
      "running (00.2s), 0/1 VUs, 0 complete and 0 interrupted iterations\u001b[K\n",
      "spike   [==>\u001b[2m-----------------------------------\u001b[0m] 0/1 VUs  0.2s/2.0s\u001b[K\n",
      "\u001b[J\u001b[3A\u001b[K\n",
      "running (00.3s), 0/1 VUs, 0 complete and 0 interrupted iterations\u001b[K\n",
      "spike   [====>\u001b[2m---------------------------------\u001b[0m] 0/1 VUs  0.3s/2.0s\u001b[K\n",
      "\u001b[J\u001b[3A\u001b[K\n",
      "running (00.4s), 0/1 VUs, 0 complete and 0 interrupted iterations\u001b[K\n",
      "spike   [======>\u001b[2m-------------------------------\u001b[0m] 0/1 VUs  0.4s/2.0s\u001b[K\n",
      "\u001b[J\u001b[3A\u001b[K\n",
      "running (00.5s), 0/1 VUs, 0 complete and 0 interrupted iterations\u001b[K\n",
      "spike   [========>\u001b[2m-----------------------------\u001b[0m] 0/1 VUs  0.5s/2.0s\u001b[K\n",
      "\u001b[J\u001b[3A\u001b[K\n",
      "running (00.6s), 0/1 VUs, 0 complete and 0 interrupted iterations\u001b[K\n",
      "spike   [==========>\u001b[2m---------------------------\u001b[0m] 0/1 VUs  0.6s/2.0s\u001b[K\n",
      "\u001b[J\u001b[3A\u001b[K\n",
      "running (00.7s), 0/1 VUs, 0 complete and 0 interrupted iterations\u001b[K\n",
      "spike   [============>\u001b[2m-------------------------\u001b[0m] 0/1 VUs  0.7s/2.0s\u001b[K\n",
      "\u001b[J\u001b[3A\u001b[K\n",
      "running (00.8s), 0/1 VUs, 0 complete and 0 interrupted iterations\u001b[K\n",
      "spike   [==============>\u001b[2m-----------------------\u001b[0m] 0/1 VUs  0.8s/2.0s\u001b[K\n",
      "\u001b[J\u001b[3A\u001b[K\n",
      "running (00.9s), 0/1 VUs, 0 complete and 0 interrupted iterations\u001b[K\n",
      "spike   [================>\u001b[2m---------------------\u001b[0m] 0/1 VUs  0.9s/2.0s\u001b[K\n",
      "\u001b[J\u001b[3A\u001b[K\n",
      "running (01.0s), 0/1 VUs, 0 complete and 0 interrupted iterations\u001b[K\n",
      "spike   [=================>\u001b[2m--------------------\u001b[0m] 0/1 VUs  1.0s/2.0s\u001b[K\n",
      "\u001b[J\u001b[3A\u001b[31mERRO\u001b[0m[0001] Couldn't write stats                          \u001b[31merror\u001b[0m=\"Post \\\"http://localhost:8086/write?consistency=&db=k6&precision=ns&rp=\\\": dial tcp 127.0.0.1:8086: connect: connection refused\" \u001b[31moutput\u001b[0m=InfluxDBv1\u001b[0K\n",
      "\u001b[K\n",
      "running (01.0s), 0/1 VUs, 0 complete and 0 interrupted iterations\u001b[K\n",
      "spike   [=================>\u001b[2m--------------------\u001b[0m] 0/1 VUs  1.0s/2.0s\u001b[K\n",
      "\u001b[J\u001b[3A\u001b[K\n",
      "running (01.1s), 0/1 VUs, 0 complete and 0 interrupted iterations\u001b[K\n",
      "spike   [===================>\u001b[2m------------------\u001b[0m] 0/1 VUs  1.1s/2.0s\u001b[K\n",
      "\u001b[J\u001b[3A\u001b[K\n",
      "running (01.2s), 0/1 VUs, 0 complete and 0 interrupted iterations\u001b[K\n",
      "spike   [=====================>\u001b[2m----------------\u001b[0m] 0/1 VUs  1.2s/2.0s\u001b[K\n",
      "\u001b[J\u001b[3A\u001b[K\n",
      "running (01.3s), 0/1 VUs, 0 complete and 0 interrupted iterations\u001b[K\n",
      "spike   [=======================>\u001b[2m--------------\u001b[0m] 0/1 VUs  1.3s/2.0s\u001b[K\n",
      "\u001b[J\u001b[3A\u001b[K\n",
      "running (01.4s), 0/1 VUs, 0 complete and 0 interrupted iterations\u001b[K\n",
      "spike   [=========================>\u001b[2m------------\u001b[0m] 0/1 VUs  1.4s/2.0s\u001b[K\n",
      "\u001b[J\u001b[3A\u001b[K\n",
      "running (01.5s), 0/1 VUs, 0 complete and 0 interrupted iterations\u001b[K\n",
      "spike   [===========================>\u001b[2m----------\u001b[0m] 0/1 VUs  1.5s/2.0s\u001b[K\n",
      "\u001b[J\u001b[3A\u001b[K\n",
      "running (01.6s), 0/1 VUs, 0 complete and 0 interrupted iterations\u001b[K\n",
      "spike   [=============================>\u001b[2m--------\u001b[0m] 0/1 VUs  1.6s/2.0s\u001b[K\n",
      "\u001b[J\u001b[3A\u001b[K\n",
      "running (01.7s), 0/1 VUs, 0 complete and 0 interrupted iterations\u001b[K\n",
      "spike   [===============================>\u001b[2m------\u001b[0m] 0/1 VUs  1.7s/2.0s\u001b[K\n",
      "\u001b[J\u001b[3A\u001b[K\n",
      "running (01.8s), 0/1 VUs, 0 complete and 0 interrupted iterations\u001b[K\n",
      "spike   [=================================>\u001b[2m----\u001b[0m] 0/1 VUs  1.8s/2.0s\u001b[K\n",
      "\u001b[J\u001b[3A\u001b[K\n",
      "running (01.9s), 0/1 VUs, 0 complete and 0 interrupted iterations\u001b[K\n",
      "spike   [==================================>\u001b[2m---\u001b[0m] 0/1 VUs  1.9s/2.0s\u001b[K\n",
      "\u001b[J\u001b[3A\u001b[K\n",
      "running (02.0s), 0/1 VUs, 0 complete and 0 interrupted iterations\u001b[K\n",
      "spike   [====================================>\u001b[2m-\u001b[0m] 0/1 VUs  2.0s/2.0s\u001b[K\n",
      "\u001b[J\u001b[3A\u001b[31mERRO\u001b[0m[0002] Couldn't write stats                          \u001b[31merror\u001b[0m=\"Post \\\"http://localhost:8086/write?consistency=&db=k6&precision=ns&rp=\\\": dial tcp 127.0.0.1:8086: connect: connection refused\" \u001b[31moutput\u001b[0m=InfluxDBv1\u001b[0K\n",
      "\u001b[K\n",
      "running (02.0s), 0/1 VUs, 0 complete and 0 interrupted iterations\u001b[K\n",
      "spike   [====================================>\u001b[2m-\u001b[0m] 0/1 VUs  2.0s/2.0s\u001b[K\n",
      "\u001b[J\u001b[3A\u001b[K\n",
      "running (02.0s), 0/1 VUs, 0 complete and 0 interrupted iterations\u001b[K\n",
      "spike \u001b[32m✓\u001b[0m [======================================\u001b[2m\u001b[0m] 0/1 VUs  2s\u001b[K\n",
      "\u001b[33mWARN\u001b[0m[0002] No script iterations finished, consider making the test duration longer \u001b[0K\n",
      "\u001b[0K\n",
      "     vus\u001b[2m.......:\u001b[0m \u001b[36m0\u001b[0m \u001b[36;2mmin=0\u001b[0m \u001b[36;2mmax=0\u001b[0m\u001b[0K\n",
      "     vus_max\u001b[2m...:\u001b[0m \u001b[36m1\u001b[0m \u001b[36;2mmin=1\u001b[0m \u001b[36;2mmax=1\u001b[0m\u001b[0K\n",
      "\u001b[0K\n",
      "\u001b[31mERRO\u001b[0m[0003] Couldn't write stats                          \u001b[31merror\u001b[0m=\"Post \\\"http://localhost:8086/write?consistency=&db=k6&precision=ns&rp=\\\": dial tcp 127.0.0.1:8086: connect: connection refused\" \u001b[31moutput\u001b[0m=InfluxDBv1\u001b[0K\n",
      "\u001b[31mERRO\u001b[0m[0003] Couldn't write stats                          \u001b[31merror\u001b[0m=\"Post \\\"http://localhost:8086/write?consistency=&db=k6&precision=ns&rp=\\\": dial tcp 127.0.0.1:8086: connect: connection refused\" \u001b[31moutput\u001b[0m=InfluxDBv1\u001b[0K\n"
     ]
    }
   ],
   "source": [
    "! ../k6_scripts/run_load.sh $test_type $test_endpoint $simulation_identifier"
   ]
  },
  {
   "cell_type": "code",
   "execution_count": null,
   "metadata": {},
   "outputs": [],
   "source": [
    "from influxdb import DataFrameClient\n",
    "import seaborn\n",
    "import matplotlib.pyplot as plt"
   ]
  },
  {
   "cell_type": "code",
   "execution_count": 8,
   "metadata": {
    "scrolled": true
   },
   "outputs": [
    {
     "ename": "NameError",
     "evalue": "name 'DataFrameClient' is not defined",
     "output_type": "error",
     "traceback": [
      "\u001b[0;31m---------------------------------------------------------------------------\u001b[0m",
      "\u001b[0;31mNameError\u001b[0m                                 Traceback (most recent call last)",
      "\u001b[0;32m<ipython-input-8-1dd2b382b011>\u001b[0m in \u001b[0;36m<module>\u001b[0;34m\u001b[0m\n\u001b[0;32m----> 1\u001b[0;31m \u001b[0mclient\u001b[0m \u001b[0;34m=\u001b[0m \u001b[0mDataFrameClient\u001b[0m\u001b[0;34m(\u001b[0m\u001b[0;34m'localhost'\u001b[0m\u001b[0;34m,\u001b[0m \u001b[0;36m8086\u001b[0m\u001b[0;34m)\u001b[0m\u001b[0;34m\u001b[0m\u001b[0;34m\u001b[0m\u001b[0m\n\u001b[0m\u001b[1;32m      2\u001b[0m \u001b[0mclient\u001b[0m\u001b[0;34m.\u001b[0m\u001b[0mswitch_database\u001b[0m\u001b[0;34m(\u001b[0m\u001b[0;34m'k6'\u001b[0m\u001b[0;34m)\u001b[0m\u001b[0;34m\u001b[0m\u001b[0;34m\u001b[0m\u001b[0m\n\u001b[1;32m      3\u001b[0m \u001b[0;34m\u001b[0m\u001b[0m\n\u001b[1;32m      4\u001b[0m \u001b[0mres\u001b[0m \u001b[0;34m=\u001b[0m \u001b[0mclient\u001b[0m\u001b[0;34m.\u001b[0m\u001b[0mquery\u001b[0m\u001b[0;34m(\u001b[0m\u001b[0;34m'SELECT * FROM \"processing_time\"'\u001b[0m\u001b[0;34m)\u001b[0m\u001b[0;34m\u001b[0m\u001b[0;34m\u001b[0m\u001b[0m\n\u001b[1;32m      5\u001b[0m \u001b[0;31m# A dict of metrics is returns\u001b[0m\u001b[0;34m\u001b[0m\u001b[0;34m\u001b[0m\u001b[0;34m\u001b[0m\u001b[0m\n",
      "\u001b[0;31mNameError\u001b[0m: name 'DataFrameClient' is not defined"
     ]
    }
   ],
   "source": [
    "client = DataFrameClient('localhost', 8086)\n",
    "client.switch_database('k6')\n",
    "\n",
    "res = client.query('SELECT * FROM \"processing_time\"')\n",
    "# A dict of metrics is returns\n",
    "res = res['processing_time']\n",
    "res"
   ]
  },
  {
   "cell_type": "code",
   "execution_count": 16,
   "metadata": {
    "scrolled": true
   },
   "outputs": [
    {
     "data": {
      "image/png": "[encoded data removed]",
      "text/plain": [
       "<Figure size 432x288 with 1 Axes>"
      ]
     },
     "metadata": {
      "needs_background": "light"
     },
     "output_type": "display_data"
    }
   ],
   "source": [
    "seaborn.histplot(res)\n",
    "plt.show()"
   ]
  },
  {
   "cell_type": "code",
   "execution_count": null,
   "metadata": {},
   "outputs": [],
   "source": []
  }
 ],
 "metadata": {
  "kernelspec": {
   "display_name": "Python 3 (ipykernel)",
   "language": "python",
   "name": "python3"
  },
  "language_info": {
   "codemirror_mode": {
    "name": "ipython",
    "version": 3
   },
   "file_extension": ".py",
   "mimetype": "text/x-python",
   "name": "python",
   "nbconvert_exporter": "python",
   "pygments_lexer": "ipython3",
   "version": "3.9.6"
  }
 },
 "nbformat": 4,
 "nbformat_minor": 2
}
