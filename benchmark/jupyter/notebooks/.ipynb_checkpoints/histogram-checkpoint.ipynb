{
 "cells": [
  {
   "cell_type": "code",
   "execution_count": null,
   "metadata": {},
   "outputs": [],
   "source": [
    "from influxdb import DataFrameClient\n",
    "import seaborn\n",
    "import matplotlib.pyplot as plt\n",
    "import pandas as pd\n",
    "import datetime\n",
    "\n",
    "client = DataFrameClient('localhost', 8086, 'admin', 'admin', 'k6')\n"
   ]
  },
  {
   "cell_type": "code",
   "execution_count": null,
   "metadata": {},
   "outputs": [],
   "source": [
    "default_test_endpoint='http://node.default.127.0.0.1.nip.io'\n",
    "target='local'\n",
    "simulation_identifier='local01'"
   ]
  },
  {
   "cell_type": "code",
   "execution_count": null,
   "metadata": {},
   "outputs": [],
   "source": [
    "\n",
    "\n",
    "\n"
   ]
  },
  {
   "cell_type": "code",
   "execution_count": null,
   "metadata": {},
   "outputs": [],
   "source": [
    "# TESTE T1\n",
    "\n",
    "! ../k6_scripts/run_load.sh t1 $default_test_endpoint $target $simulation_identifier"
   ]
  },
  {
   "cell_type": "code",
   "execution_count": null,
   "metadata": {
    "scrolled": true
   },
   "outputs": [],
   "source": [
    "# RESULTS T1\n",
    "bind_params={'s': 't02', 't':'t1', \"tg\": \"gcp_kn\" }\n",
    "df = client.query('SELECT * FROM \"http_req_duration\" WHERE simulation=$s and type=$t and target=$tg',bind_params=bind_params)['http_req_duration']\n",
    "df['time'] = (df.index - df.index.min()).total_seconds()\n",
    "df"
   ]
  },
  {
   "cell_type": "code",
   "execution_count": null,
   "metadata": {},
   "outputs": [],
   "source": [
    "# Chart T1 \n",
    "fig = seaborn.lineplot(data=df, x=\"time\", y=\"value\", )\n",
    "fig.set(xlabel='segundos', ylabel='latência')\n",
    "\n",
    "plt.show()\n"
   ]
  },
  {
   "cell_type": "code",
   "execution_count": null,
   "metadata": {
    "scrolled": true
   },
   "outputs": [],
   "source": [
    "# TESTE T2\n",
    "\n",
    "! ../k6_scripts/run_load.sh t2 $default_test_endpoint $target $simulation_identifier"
   ]
  },
  {
   "cell_type": "code",
   "execution_count": null,
   "metadata": {
    "scrolled": true
   },
   "outputs": [],
   "source": [
    "# RESULTS T2\n",
    "\n",
    "bind_params={'s': 't01', 'ss': 't02', 'sss': 't03' , 't':'t2', 'tg': 'gcp_cr' }\n",
    "query = 'SELECT value,target as plataforma, simulation FROM \"http_req_duration\" WHERE simulation=$s or simulation=$ss or simulation=$sss' #+ 'and type=$t and target=$tg'\n",
    "df = client.query(query,bind_params=bind_params)['http_req_duration']\n",
    "vus = client.query('SELECT * FROM \"vus\"')['vus']\n",
    "\n",
    "\n",
    "df['vus'] = vus.iloc[vus.index.get_indexer(df.index,method='nearest')]['value'].to_numpy()\n",
    "df = df.loc[~df.index.duplicated(), :]\n",
    "df = df[df['plataforma'] != 'gcp_knative']\n",
    "\n",
    "df\n",
    "\n"
   ]
  },
  {
   "cell_type": "code",
   "execution_count": null,
   "metadata": {},
   "outputs": [],
   "source": [
    "# T2 - show grafic\n",
    "\n",
    "hue_order = ['gcp_cr', 'aws', 'gcp_kn']\n",
    "\n",
    "fig = seaborn.lineplot(data=df, x= 'vus', y='value', hue='plataforma', hue_order=hue_order)\n",
    "fig.set(xlabel='vus', ylabel='latência')\n",
    "\n",
    "plt.show()"
   ]
  },
  {
   "cell_type": "code",
   "execution_count": null,
   "metadata": {},
   "outputs": [],
   "source": [
    "\n",
    "\n",
    "\n"
   ]
  },
  {
   "cell_type": "code",
   "execution_count": null,
   "metadata": {},
   "outputs": [],
   "source": [
    "# TESTE T3\n",
    "\n",
    "! ../k6_scripts/run_load.sh t3 $default_test_endpoint $target $simulation_identifier\n",
    "\n"
   ]
  },
  {
   "cell_type": "code",
   "execution_count": null,
   "metadata": {},
   "outputs": [],
   "source": [
    "# RESULTS T3\n",
    "\n",
    "\n",
    "res = client.query('SELECT * FROM \"http_req_duration\" WHERE simulation=$s',bind_params={'s': 'teste2'})\n",
    "res = res['http_req_duration']\n",
    "res\n",
    "\n",
    "# show grafic\n",
    "seaborn.lineplot(data=res)\n",
    "plt.show()\n"
   ]
  },
  {
   "cell_type": "code",
   "execution_count": null,
   "metadata": {},
   "outputs": [],
   "source": [
    "\n",
    "\n",
    "\n"
   ]
  },
  {
   "cell_type": "code",
   "execution_count": null,
   "metadata": {
    "scrolled": true
   },
   "outputs": [],
   "source": [
    "# TESTE T4\n",
    "\n",
    "! ../k6_scripts/run_load.sh t4 \"$default_test_endpoint/payload\" $target $simulation_identifier \"payload\" 64 \n",
    "! ../k6_scripts/run_load.sh t4 \"$default_test_endpoint/payload\" $target $simulation_identifier \"payload\" 256 \n",
    "! ../k6_scripts/run_load.sh t4 \"$default_test_endpoint/payload\" $target $simulation_identifier \"payload\" 512 \n"
   ]
  },
  {
   "cell_type": "code",
   "execution_count": null,
   "metadata": {},
   "outputs": [],
   "source": [
    "# RESULTS T4\n",
    "\n",
    "bind_params={'s': 't01', 'ss': 't02', 'sss': 't03' , 't':'t2', 'tg': 'gcp_cr' }\n",
    "query = 'SELECT value,target as plataforma, simulation FROM \"http_req_duration\" WHERE simulation=$s or simulation=$ss or simulation=$sss' #+ 'and type=$t and target=$tg'\n",
    "df = client.query(query,bind_params=bind_params)['http_req_duration']\n",
    "vus = client.query('SELECT * FROM \"vus\"')['vus']\n",
    "\n",
    "\n",
    "df['vus'] = vus.iloc[vus.index.get_indexer(df.index,method='nearest')]['value'].to_numpy()\n",
    "df = df.loc[~df.index.duplicated(), :]\n",
    "df = df[df['plataforma'] != 'gcp_knative']\n",
    "\n",
    "df\n",
    "\n"
   ]
  },
  {
   "cell_type": "code",
   "execution_count": null,
   "metadata": {},
   "outputs": [],
   "source": [
    "\n",
    "# T4 - show grafic\n",
    "seaborn.lineplot(data=df, x='vus', y='value', hue='payload')\n",
    "plt.show()\n",
    "\n"
   ]
  },
  {
   "cell_type": "code",
   "execution_count": null,
   "metadata": {
    "scrolled": true
   },
   "outputs": [],
   "source": [
    "# TESTE T5\n",
    "\n",
    "! ../k6_scripts/run_load.sh t5 \"http://node.default.127.0.0.1.nip.io\" $target $simulation_identifier \"language\" \"node\"\n",
    "! ../k6_scripts/run_load.sh t5 \"http://python.default.127.0.0.1.nip.io\" $target $simulation_identifier \"language\" \"python\"\n",
    "! ../k6_scripts/run_load.sh t5 \"http://php.default.127.0.0.1.nip.io\" $target $simulation_identifier \"language\" \"php\"\n",
    "! ../k6_scripts/run_load.sh t5 \"http://go.default.127.0.0.1.nip.io\" $target $simulation_identifier \"language\" \"go\"\n",
    "! ../k6_scripts/run_load.sh t5 \"http://java.default.127.0.0.1.nip.io\" $target $simulation_identifier \"language\" \"java\"\n",
    "! ../k6_scripts/run_load.sh t5 \"http://csharp.default.127.0.0.1.nip.io\" $target $simulation_identifier \"language\" \"csharp\"\n"
   ]
  },
  {
   "cell_type": "code",
   "execution_count": null,
   "metadata": {},
   "outputs": [],
   "source": [
    "# RESULTS T5\n",
    "\n",
    "bind_params={'s': simulation_identifier, 't':'t4' }\n",
    "df = client.query('SELECT * FROM \"http_req_duration\" WHERE simulation=$s and type=$t',bind_params=bind_params)['http_req_duration']\n",
    "vus = client.query('SELECT * FROM \"vus\"')['vus']\n",
    "\n",
    "\n",
    "df['vus'] = vus.iloc[vus.index.get_indexer(df.index,method='nearest')]['value'].to_numpy()\n"
   ]
  },
  {
   "cell_type": "code",
   "execution_count": null,
   "metadata": {},
   "outputs": [],
   "source": [
    "\n",
    "# T4 - show grafic\n",
    "seaborn.lineplot(data=df, x='vus', y='value', hue='language')\n",
    "plt.show()\n"
   ]
  },
  {
   "cell_type": "code",
   "execution_count": null,
   "metadata": {},
   "outputs": [],
   "source": [
    "# TESTE T6\n",
    "! ../k6_scripts/run_load.sh t4 \"$default_test_endpoint/payload\" $target $simulation_identifier \"language\" \"node\"\n",
    "! ../k6_scripts/run_load.sh t4 \"$default_test_endpoint/payload\" $target $simulation_identifier \"language\" \"python\"\n",
    "! ../k6_scripts/run_load.sh t4 \"$default_test_endpoint/payload\" $target $simulation_identifier \"language\" \"php\"\n",
    "! ../k6_scripts/run_load.sh t4 \"$default_test_endpoint/payload\" $target $simulation_identifier \"language\" \"go\"\n",
    "! ../k6_scripts/run_load.sh t4 \"$default_test_endpoint/payload\" $target $simulation_identifier \"language\" \"java\"\n",
    "! ../k6_scripts/run_load.sh t4 \"$default_test_endpoint/payload\" $target $simulation_identifier \"language\" \"csharp\"\n"
   ]
  },
  {
   "cell_type": "code",
   "execution_count": null,
   "metadata": {},
   "outputs": [],
   "source": [
    "# RESULTS T6\n",
    "\n",
    "res = client.query('SELECT * FROM \"http_req_duration\" WHERE simulation=$s',bind_params={'s': 'teste2'})\n",
    "res = res['http_req_duration']\n",
    "res\n",
    "\n",
    "# show grafic\n",
    "seaborn.lineplot(data=res)\n",
    "plt.show()\n"
   ]
  },
  {
   "cell_type": "code",
   "execution_count": null,
   "metadata": {},
   "outputs": [],
   "source": [
    "\n",
    "\n"
   ]
  },
  {
   "cell_type": "code",
   "execution_count": null,
   "metadata": {},
   "outputs": [],
   "source": [
    "# TESTE T7\n",
    "\n",
    "! ../k6_scripts/run_load.sh t7 $default_test_endpoint $target $simulation_identifier\n"
   ]
  },
  {
   "cell_type": "code",
   "execution_count": null,
   "metadata": {},
   "outputs": [],
   "source": [
    "# RESULTS T7\n",
    "\n",
    "res = client.query('SELECT * FROM \"http_req_duration\" WHERE simulation=$s',bind_params={'s': 'teste2'})\n",
    "res = res['http_req_duration']\n",
    "res\n",
    "\n",
    "# show grafic\n",
    "seaborn.lineplot(data=res)\n",
    "plt.show()"
   ]
  }
 ],
 "metadata": {
  "kernelspec": {
   "display_name": "Python 3 (ipykernel)",
   "language": "python",
   "name": "python3"
  },
  "language_info": {
   "codemirror_mode": {
    "name": "ipython",
    "version": 3
   },
   "file_extension": ".py",
   "mimetype": "text/x-python",
   "name": "python",
   "nbconvert_exporter": "python",
   "pygments_lexer": "ipython3",
   "version": "3.9.6"
  }
 },
 "nbformat": 4,
 "nbformat_minor": 2
}
